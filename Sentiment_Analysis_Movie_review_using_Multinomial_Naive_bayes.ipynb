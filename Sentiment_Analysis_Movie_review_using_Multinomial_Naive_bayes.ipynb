{
  "nbformat": 4,
  "nbformat_minor": 0,
  "metadata": {
    "colab": {
      "provenance": [],
      "authorship_tag": "ABX9TyOYE0NuT0Ex4z2i4RrwUgGj",
      "include_colab_link": true
    },
    "kernelspec": {
      "name": "python3",
      "display_name": "Python 3"
    },
    "language_info": {
      "name": "python"
    }
  },
  "cells": [
    {
      "cell_type": "markdown",
      "metadata": {
        "id": "view-in-github",
        "colab_type": "text"
      },
      "source": [
        "<a href=\"https://colab.research.google.com/github/shivasankari266/portfolio/blob/main/Sentiment_Analysis_Movie_review_using_Multinomial_Naive_bayes.ipynb\" target=\"_parent\"><img src=\"https://colab.research.google.com/assets/colab-badge.svg\" alt=\"Open In Colab\"/></a>"
      ]
    },
    {
      "cell_type": "code",
      "execution_count": 1,
      "metadata": {
        "colab": {
          "base_uri": "https://localhost:8080/"
        },
        "id": "M7-SLRJsZsCI",
        "outputId": "f4c7a9c0-50f2-44fa-ef65-57fe08f9bfc8"
      },
      "outputs": [
        {
          "output_type": "stream",
          "name": "stdout",
          "text": [
            "Requirement already satisfied: numpy in /usr/local/lib/python3.11/dist-packages (1.26.4)\n",
            "Requirement already satisfied: pandas in /usr/local/lib/python3.11/dist-packages (2.2.2)\n",
            "Requirement already satisfied: scikit-learn in /usr/local/lib/python3.11/dist-packages (1.6.1)\n",
            "Requirement already satisfied: nltk in /usr/local/lib/python3.11/dist-packages (3.9.1)\n",
            "Requirement already satisfied: joblib in /usr/local/lib/python3.11/dist-packages (1.4.2)\n",
            "Requirement already satisfied: python-dateutil>=2.8.2 in /usr/local/lib/python3.11/dist-packages (from pandas) (2.8.2)\n",
            "Requirement already satisfied: pytz>=2020.1 in /usr/local/lib/python3.11/dist-packages (from pandas) (2025.1)\n",
            "Requirement already satisfied: tzdata>=2022.7 in /usr/local/lib/python3.11/dist-packages (from pandas) (2025.1)\n",
            "Requirement already satisfied: scipy>=1.6.0 in /usr/local/lib/python3.11/dist-packages (from scikit-learn) (1.13.1)\n",
            "Requirement already satisfied: threadpoolctl>=3.1.0 in /usr/local/lib/python3.11/dist-packages (from scikit-learn) (3.5.0)\n",
            "Requirement already satisfied: click in /usr/local/lib/python3.11/dist-packages (from nltk) (8.1.8)\n",
            "Requirement already satisfied: regex>=2021.8.3 in /usr/local/lib/python3.11/dist-packages (from nltk) (2024.11.6)\n",
            "Requirement already satisfied: tqdm in /usr/local/lib/python3.11/dist-packages (from nltk) (4.67.1)\n",
            "Requirement already satisfied: six>=1.5 in /usr/local/lib/python3.11/dist-packages (from python-dateutil>=2.8.2->pandas) (1.17.0)\n"
          ]
        }
      ],
      "source": [
        "!pip install numpy pandas scikit-learn nltk joblib"
      ]
    },
    {
      "cell_type": "code",
      "source": [
        "import nltk\n",
        "import random\n",
        "from nltk.corpus import movie_reviews\n",
        "\n",
        "# Download dataset\n",
        "nltk.download('movie_reviews')\n",
        "\n",
        "# Load movie reviews data\n",
        "documents = [(list(movie_reviews.words(fileid)), category)\n",
        "             for category in movie_reviews.categories()\n",
        "             for fileid in movie_reviews.fileids(category)]\n",
        "random.shuffle(documents)\n",
        "\n",
        "# Display first 3 data samples\n",
        "print(documents[:3])"
      ],
      "metadata": {
        "colab": {
          "base_uri": "https://localhost:8080/"
        },
        "id": "3RcqHu31Z36k",
        "outputId": "32367fb9-5eac-4d90-a1e1-81c659abdc4c"
      },
      "execution_count": 2,
      "outputs": [
        {
          "output_type": "stream",
          "name": "stderr",
          "text": [
            "[nltk_data] Downloading package movie_reviews to /root/nltk_data...\n",
            "[nltk_data]   Unzipping corpora/movie_reviews.zip.\n"
          ]
        },
        {
          "output_type": "stream",
          "name": "stdout",
          "text": [
            "[(['you', 'know', 'you', \"'\", 're', 'in', 'for', 'a', 'truly', 'different', 'cinematic', 'experience', 'the', 'moment', 'you', 'realize', 'steve', 'buscemi', 'has', 'been', 'cast', 'as', 'the', 'movie', 'in', 'question', \"'\", 's', 'most', 'normal', 'character', '.', 'such', 'is', 'the', 'case', 'with', '\"', 'the', 'big', 'lebowski', ',', '\"', 'joel', 'and', 'ethan', 'coen', \"'\", 's', 'first', 'venture', 'since', 'their', '\"', 'fargo', '\"', 'nabbed', 'nationwide', 'acclaim', 'and', 'a', 'mantlepiece', 'of', 'academy', 'award', 'nods', '.', 'there', \"'\", 's', 'no', 'need', 'to', 'fear', 'that', 'the', 'coens', 'suffered', 'creative', 'burnout', 'with', 'that', 'accomplishment', ',', 'because', '\"', 'lebowski', '\"', 'is', 'an', 'effort', 'that', 'makes', 'words', 'like', '\"', 'strange', '\"', 'and', '\"', 'unusual', '\"', 'seem', 'like', 'an', 'understatement', '.', 'thanks', 'in', 'part', 'to', 'delicious', 'characterization', 'and', 'an', 'all', '-', 'encompassing', 'sense', 'of', 'humor', ',', 'the', 'film', 'is', 'a', 'smashing', 'success', '.', 'the', 'central', 'oddball', 'here', 'is', 'the', 'dude', '(', 'jeff', 'bridges', ')', ',', 'an', 'unemployed', 'cad', 'whose', 'ambitions', 'appear', 'to', 'be', 'zilch', 'beyond', 'smoking', 'pot', ',', 'drinking', 'beer', 'and', 'going', 'bowling', '(', 'are', 'you', 'college', 'students', 'already', 'rooting', 'for', 'him', ',', 'or', 'what', '?', ')', '.', 'one', 'night', ',', 'a', 'pair', 'of', 'thugs', 'break', 'into', 'his', 'house', 'and', 'pee', 'on', 'his', 'carpet', ',', 'a', 'threatening', 'act', 'that', \"'\", 's', 'supposed', 'to', 'be', 'carried', 'out', 'against', 'a', 'famous', 'pasadena', 'millionaire', '(', 'david', 'huddleston', ')', 'who', 'shares', 'his', 'birth', 'name', '--', 'jeff', 'lebowski', '--', 'with', 'the', 'dude', '.', 'once', 'the', 'dude', 'realizes', 'this', 'coincidence', ',', 'he', 'visits', 'the', 'big', 'lebowski', 'in', 'hopes', 'to', 'claim', 'reparations', 'for', 'his', 'soiled', 'rug', ',', 'and', 'is', 'back', 'to', 'his', 'normal', 'life', 'with', 'alley', 'pals', 'walter', '(', 'john', 'goodman', ')', ',', 'a', 'hotheaded', 'vietnam', 'vet', ',', 'and', 'donny', '(', 'buscemi', ')', ',', 'a', 'mild', '-', 'mannered', 'surfer', ',', 'before', 'too', 'long', '.', 'soon', ',', 'though', ',', 'lebowski', \"'\", 's', 'trampy', 'trophy', 'wife', 'bunny', '(', 'tara', 'reid', ')', 'is', 'kidnaped', 'and', 'held', 'for', 'a', 'hefty', 'ransom', ',', 'and', 'he', 'turns', 'to', 'the', 'dude', 'for', 'help', '.', 'it', 'seems', 'bunny', \"'\", 's', 'troubles', 'are', 'related', 'to', 'a', 'line', 'of', 'work', 'she', \"'\", 's', 'kept', 'secret', 'from', 'her', 'husband', '--', 'she', \"'\", 's', 'actually', 'an', 'adult', 'film', 'star', 'and', 'is', 'very', 'in', 'debt', 'with', 'a', 'shady', 'producer', 'named', 'jackie', 'treehorn', '.', 'the', 'dude', ',', 'now', 'on', 'lebowski', \"'\", 's', 'payroll', ',', 'accepts', 'the', 'offer', 'and', 'agrees', 'to', 'handle', 'the', 'money', 'drop', ';', 'walter', 'tags', 'along', 'and', 'insists', 'that', 'the', 'dude', 'keep', 'the', 'cash', 'for', 'himself', '.', 'chaos', 'obviously', 'ensues', ',', 'and', 'the', 'dude', 'eventually', 'finds', 'himself', 'in', 'hot', 'water', 'with', 'cops', ',', 'crooks', 'and', 'lebowski', \"'\", 's', 'ultra', '-', 'eccentric', 'artist', 'daughter', 'maude', '(', 'julianne', 'moore', ')', '.', '\"', 'the', 'big', 'lebowski', '\"', 'deserves', 'to', 'win', 'the', 'coens', 'the', 'same', 'amount', 'of', 'acclaim', 'that', '\"', 'fargo', '\"', 'did', ';', 'while', 'that', '1996', 'black', 'comedy', 'was', 'certainly', 'a', 'better', 'film', ',', '\"', 'lebowski', '\"', 'is', 'at', 'least', 'as', 'breathtakingly', 'imaginative', '.', 'the', 'movie', 'boasts', 'a', 'mile', '-', 'high', 'absurdity', 'level', 'that', 'sometimes', 'threatens', 'to', 'topple', 'over', ',', 'but', 'thankfully', 'never', 'does', '.', 'the', 'coens', '(', 'joel', 'directed', ',', 'ethan', 'produced', 'and', 'both', 'wrote', ')', 'keep', 'you', 'in', 'stitches', 'as', 'they', 'unravel', 'their', 'exceedingly', 'loopy', 'tale', ',', 'and', 'must', 'be', 'commended', 'for', 'juggling', 'a', 'number', 'of', 'people', 'and', 'subplots', 'one', 'would', 'expect', 'to', 'find', 'in', 'a', 'robert', 'altman', 'flick', '.', 'whether', 'we', \"'\", 're', 'watching', 'bridges', 'fend', 'off', 'a', 'marmet', 'in', 'his', 'bathtub', 'or', 'moore', 'don', 'viking', 'duds', 'and', 'dance', 'in', 'a', 'busby', 'berkeley', '-', 'esque', 'dream', 'sequence', ',', '\"', 'the', 'big', 'lebowski', '\"', 'is', 'immensely', 'lively', '.', 'there', 'are', 'those', 'who', 'will', 'dislike', 'this', 'film', ',', 'but', 'not', 'because', 'it', \"'\", 's', 'boring', '.', 'the', 'cast', 'has', 'a', 'great', 'deal', 'of', 'fun', 'with', 'the', 'bounteous', 'material', 'they', \"'\", 're', 'given', '.', 'bridges', 'exudes', 'a', 'likeable', ',', 'surprisingly', 'sweet', 'presence', ';', 'his', 'dude', 'sure', 'isn', \"'\", 't', 'the', 'cleanest', 'guy', 'around', ',', 'but', 'you', \"'\", 'd', 'still', 'follow', 'him', 'to', 'another', 'movie', '.', 'goodman', 'merits', '1998', \"'\", 's', 'first', 'oscar', 'consideration', ',', 'as', 'walter', \"'\", 's', 'manic', 'temper', 'is', 'one', 'of', '\"', 'the', 'big', 'lebowski', '\"', \"'\", 's', 'many', 'highlights', ';', 'the', 'same', 'goes', 'for', 'moore', ',', 'whose', 'throaty', ',', 'delectable', 'performance', 'as', 'maude', 'is', 'a', 'hilarious', 'hoot', '.', 'john', 'turturro', 'may', 'very', 'well', 'steal', 'the', 'movie', 'with', 'his', 'two', 'scenes', 'as', 'a', 'colorful', 'bowler', 'from', 'a', 'rival', 'faction', '.', 'sam', 'elliott', \"'\", 's', 'rambling', 'narration', 'gets', 'the', 'film', 'off', 'to', 'a', 'solid', 'start', '.', 'and', 'some', 'will', 'recognize', 'peter', 'stormare', '--', '\"', 'fargo', '\"', \"'\", 's', 'silent', 'heavy', '--', 'as', 'carl', 'hungus', ',', 'a', 'porn', 'star', 'who', \"'\", 's', 'really', 'a', 'samurai', 'sword', '-', 'wielding', 'german', 'nihilist', 'and', 'has', '-', 'been', 'pop', 'star', '.', 'only', 'in', 'its', 'final', 'third', 'does', 'the', 'movie', 'falter', ',', 'with', 'a', 'couple', 'of', 'loose', 'plot', 'threads', 'and', 'some', 'cast', 'members', 'who', 'quickly', 'disappear', 'and', 'never', 'emerge', 'for', 'a', 'curtain', 'call', '.', 'these', 'flaws', 'are', 'forgivable', ',', 'though', '--', 'the', 'coens', 'have', 'crafted', 'a', 'tale', 'so', 'rich', 'with', 'personality', 'that', 'it', \"'\", 's', 'hard', 'to', 'look', 'at', 'the', 'final', 'product', 'with', 'anything', 'but', 'a', 'big', 'grin', 'on', 'your', 'face', '.', 'without', 'a', 'doubt', ',', '\"', 'the', 'big', 'lebowski', '\"', 'is', 'the', 'best', 'film', 'so', 'far', 'this', 'year', '.', 'sure', ',', 'we', \"'\", 're', 'only', 'three', 'months', 'in', 'and', 'the', 'competition', '(', '\"', 'deep', 'rising', ',', '\"', '\"', 'desperate', 'measures', ',', '\"', '\"', 'the', 'wedding', 'singer', ',', '\"', 'etc', '.', ')', 'has', 'been', 'pretty', 'bland', ',', 'but', 'it', \"'\", 's', 'still', 'the', 'gospel', 'truth', '.', 'maybe', 'during', 'next', 'awards', 'season', ',', '\"', 'lebowski', '\"', 'won', \"'\", 't', 'be', 'a', 'far', 'cry', 'from', '\"', 'fargo', '.', '\"'], 'pos'), (['life', 'is', 'beautiful', 'is', 'a', 'rare', 'treat', ':', 'a', 'lighthearted', 'comedy', 'that', 'tackles', 'a', 'very', 'serious', 'subject', 'without', 'committing', 'the', 'sins', 'of', 'being', 'disrespectful', ',', 'or', ',', 'even', 'worse', ',', 'humorless', '.', 'it', 'combines', 'a', 'charming', 'romance', 'with', 'a', 'dash', 'of', 'farce', ',', 'stirs', 'in', 'a', 'little', 'poignancy', ',', 'and', 'ends', 'up', 'a', 'very', 'enjoyable', 'movie', '.', 'it', \"'\", 's', 'an', 'italian', 'film', ',', 'but', 'don', \"'\", 't', 'let', 'that', 'discourage', 'you', '.', 'subtitle', '-', 'phobes', 'will', 'be', 'missing', 'a', 'wonderful', 'experience', '.', 'life', 'is', 'beautiful', 'opens', 'as', 'a', 'sweet', 'romantic', 'comedy', ',', 'with', 'the', 'clownish', ',', 'but', 'good', 'natured', 'guido', '(', 'roberto', 'benigni', ')', 'arriving', 'in', 'a', 'rustic', 'italian', 'town', 'to', 'work', 'as', 'a', 'waiter', 'for', 'his', 'uncle', '.', 'the', 'year', 'is', '1939', ',', 'and', 'guido', 'literally', 'stumbles', 'into', 'the', 'girl', 'of', 'his', 'dreams', ',', 'dora', '(', 'nicoletta', 'braschi', ')', '.', 'their', 'romance', 'seems', 'to', 'be', 'picture', 'perfect', ',', 'with', 'only', 'one', 'stumbling', 'block', ':', 'she', \"'\", 's', 'already', 'engaged', 'to', 'another', 'man', '.', 'can', 'guido', 'overcome', 'the', 'odds', 'and', 'win', 'his', 'girl', '?', 'what', 'do', 'you', 'think', '?', 'however', ',', 'five', 'years', 'later', ',', 'things', 'have', 'taken', 'a', 'turn', 'for', 'the', 'worse', 'in', 'italy', '.', 'the', 'fascists', 'have', 'stepped', 'up', 'their', 'race', 'initiatives', ',', 'which', 'is', 'bad', 'news', 'for', 'the', 'jewish', 'guido', 'and', 'his', 'new', 'son', 'giosue', '(', 'giorgio', 'cantarini', ')', ',', 'who', 'are', 'rounded', 'up', 'and', 'shipped', 'off', 'to', 'a', 'concentration', 'camp', '.', 'unable', 'to', 'protect', 'his', 'boy', 'in', 'any', 'other', 'way', ',', 'guido', 'attempts', 'to', 'shield', 'his', 'young', 'son', 'from', 'the', 'horrors', 'of', 'the', 'labor', 'camp', '.', 'he', 'pretends', 'that', 'everything', 'is', 'all', 'an', 'elaborate', 'game', ',', 'with', 'points', 'awarded', 'for', 'such', 'tasks', 'as', 'hiding', ',', 'being', 'brave', 'and', 'being', 'very', 'very', 'quiet', '.', 'as', 'you', 'can', 'tell', 'from', 'the', 'description', ',', 'life', 'is', 'beautiful', 'has', 'two', 'very', 'different', 'tones', ',', 'but', 'manages', 'to', 'excel', 'at', 'both', 'of', 'them', '.', 'as', 'a', 'romantic', 'comedy', ',', 'it', 'is', 'sweet', 'and', 'funny', '.', 'as', 'a', 'bittersweet', 'tale', 'of', 'hope', 'amid', 'despair', ',', 'it', 'is', 'touching', '.', 'roberto', 'benigni', \"'\", 's', 'work', 'here', 'has', 'been', 'compared', 'with', 'some', 'of', 'the', 'best', 'of', 'chaplin', \"'\", 's', ',', 'and', 'it', 'is', 'easy', 'to', 'see', 'why', '.', 'he', 'is', 'able', 'to', 'run', 'the', 'gamut', 'of', 'comic', 'expression', ',', 'from', 'slapstick', 'to', 'farce', ',', 'with', 'a', 'warm', '-', 'hearted', 'feeling', 'that', 'celebrates', 'his', 'downtrodden', 'hero', \"'\", 's', '\"', 'triumph', 'of', 'the', 'underdog', '\"', 'spirit', '.', 'life', 'is', 'beautiful', 'treads', 'a', 'thin', 'line', 'when', 'it', 'turns', 'its', 'attentions', 'to', 'the', 'holocaust', '.', 'however', ',', 'it', 'is', 'able', 'to', 'successfully', 'navigate', 'the', 'minefield', ',', 'without', 'demeaning', 'the', 'gravity', 'of', 'the', 'horrors', 'involved', ',', 'nor', 'without', 'losing', 'its', 'humorous', 'edge', 'that', 'allows', 'you', 'to', 'smile', 'through', 'the', 'tears', '.', 'with', 'life', 'is', 'beautiful', ',', 'benigni', 'has', 'created', 'a', 'triumphant', ',', 'but', 'bittersweet', 'comedy', '.', 'it', \"'\", 's', 'quite', 'simply', 'one', 'of', 'the', 'most', 'enjoyable', 'times', 'i', \"'\", 've', 'had', 'at', 'the', 'movies', 'this', 'year', '.'], 'pos'), (['\"', 'what', 'is', 'this', ',', 'a', 'homicide', 'or', 'a', 'bad', 'b', '-', 'movie', '?', '\"', 'that', 'is', 'the', 'prophetic', 'question', 'asked', 'by', 'one', 'of', 'the', 'leads', 'in', 'one', 'of', 'the', 'early', 'scenes', 'of', 'this', 'movie', '.', 'let', 'me', 'clear', 'things', 'up', 'for', 'you', 'cupcake', ',', 'this', 'isn', \"'\", 't', 'a', 'bad', 'b', '-', 'movie', ',', 'it', \"'\", 's', 'a', 'really', 'bad', 'b', '-', 'movie', '.', 'so', 'bad', ',', 'it', \"'\", 's', 'almost', 'good', '.', 'almost', ',', 'but', 'not', 'quite', '.', 'the', 'movie', 'starts', 'off', 'in', 'the', '1950', \"'\", 's', 'with', 'space', 'aliens', 'sending', 'a', 'botched', 'experiment', 'down', 'to', 'earth', '.', 'it', 'is', 'a', 'bunch', 'of', 'slug', '-', 'like', 'creatures', 'that', 'kill', 'people', 'and', 'take', 'over', 'their', 'bodies', '.', 'the', 'slugs', \"'\", 'first', 'and', 'only', 'victim', 'in', 'the', 'fifties', 'is', 'cryogenically', 'frozen', 'where', 'he', 'is', 'of', 'no', 'danger', 'to', 'anybody', '.', 'that', 'is', ',', 'until', 'two', 'loser', 'university', 'students', 'unfreeze', 'him', 'in', '1986', '.', 'he', ',', 'and', 'the', 'slugs', 'inside', 'him', ',', 'promptly', 'begin', 'wreaking', 'havoc', 'and', 'turning', 'more', 'co', '-', 'eds', 'into', 'slug', 'zombies', '.', 'a', 'slightly', 'crazed', 'cop', '(', 'tom', 'atkins', ')', 'and', 'the', 'requisite', 'girl', 'with', 'the', 'face', 'of', 'an', 'angel', '(', 'jill', 'whitlow', ')', 'join', 'these', 'two', 'geeky', 'university', 'students', '(', 'jason', 'lively', 'and', 'steve', 'marshall', ')', 'to', 'do', 'battle', 'with', 'the', 'slugs', '.', 'it', 'more', 'or', 'less', 'falls', 'on', 'the', 'four', 'of', 'them', 'to', 'make', 'the', 'world', 'safe', 'again', 'from', 'the', 'evil', 'slugs', '.', 'the', 'acting', 'is', 'bad', 'with', 'a', 'capital', 'b', '.', 'the', 'story', 'is', 'worse', '.', 'and', 'the', 'special', 'effects', 'are', 'somewhere', 'between', 'an', 'old', 'rerun', 'of', 'star', 'trek', 'and', 'what', 'you', 'see', 'in', 'a', 'home', 'movie', '.', 'the', 'only', 'saving', 'grace', 'was', 'the', 'requisite', 'tit', '-', 'shot', 'courtesy', 'of', 'jill', 'whitlow', '.', 'it', 'had', 'absolutely', 'nothing', 'to', 'do', 'with', 'the', 'story', '--', 'but', 'i', 'liked', 'it', '.', 'actually', ',', 'it', 'was', 'the', 'high', 'point', 'of', 'the', 'movie', 'for', 'me', '.', 'of', 'course', ',', 'that', 'isn', \"'\", 't', 'really', 'saying', 'much', '.', 'the', 'story', 'moves', 'around', 'in', 'a', 'hap', 'hazard', 'fashion', '.', 'which', 'gives', 'it', 'a', 'leg', 'up', 'on', 'some', 'other', 'horror', 'films', '.', 'unlike', 'most', 'movies', 'of', 'this', 'genre', ',', 'there', 'actually', 'is', 'a', 'story', '.', 'not', 'a', 'great', 'one', ',', 'but', 'it', 'is', 'there', '.', 'this', 'is', 'one', 'in', 'a', 'long', 'line', 'of', 'movies', 'from', 'the', '1980', \"'\", 's', 'that', 'were', 'thrown', 'together', 'to', 'capitalize', 'off', 'the', 'success', 'of', 'the', 'friday', 'the', '13th', ',', 'halloween', 'and', 'nightmare', 'on', 'elm', 'street', 'movies', '.', 'you', 'could', 'randomly', 'select', 'a', 'movie', 'out', 'of', 'the', 'horror', 'section', 'of', 'you', 'local', 'video', 'store', 'and', 'probably', 'luck', 'into', 'something', 'just', 'as', 'good', 'if', 'not', 'better', '.', 'but', 'night', 'of', 'the', 'creeps', 'might', 'make', 'a', 'nice', 'addition', 'to', 'a', 'b', '-', 'movie', 'horror', 'marathon', '.', 'just', 'don', \"'\", 't', 'be', 'too', 'upset', 'if', 'you', 'can', \"'\", 't', 'find', 'it', '.', 'you', 'really', 'won', \"'\", 't', 'be', 'missing', 'that', 'much', '.'], 'neg')]\n"
          ]
        }
      ]
    },
    {
      "cell_type": "code",
      "source": [
        "# Get most common words\n",
        "all_words = [word.lower() for word in movie_reviews.words() if word.isalpha()]\n",
        "common_words = list(nltk.FreqDist(all_words).keys())[:3000]  # Top 3000 words\n",
        "\n",
        "# Function to extract features from a review\n",
        "def document_features(document):\n",
        "    words = set(document)\n",
        "    return {word: (word in words) for word in common_words}\n",
        "\n",
        "# Convert data into feature sets\n",
        "feature_sets = [(document_features(d), c) for (d, c) in documents]\n",
        "\n",
        "# Display sample feature set\n",
        "print(feature_sets[0])\n"
      ],
      "metadata": {
        "colab": {
          "base_uri": "https://localhost:8080/"
        },
        "id": "9a6oSmghaEj_",
        "outputId": "2c38355c-4f89-45ac-8986-9ff19af908d2"
      },
      "execution_count": 3,
      "outputs": [
        {
          "output_type": "stream",
          "name": "stdout",
          "text": [
            "({'plot': True, 'two': True, 'teen': False, 'couples': False, 'go': False, 'to': True, 'a': True, 'church': False, 'party': False, 'drink': False, 'and': True, 'then': False, 'drive': False, 'they': True, 'get': False, 'into': True, 'an': True, 'accident': False, 'one': True, 'of': True, 'the': True, 'guys': False, 'dies': False, 'but': True, 'his': True, 'girlfriend': False, 'continues': False, 'see': False, 'him': True, 'in': True, 'her': True, 'life': True, 'has': True, 'nightmares': False, 'what': True, 's': True, 'deal': True, 'watch': False, 'movie': True, 'sorta': False, 'find': True, 'out': True, 'critique': False, 'mind': False, 'fuck': False, 'for': True, 'generation': False, 'that': True, 'touches': False, 'on': True, 'very': True, 'cool': False, 'idea': False, 'presents': False, 'it': True, 'bad': False, 'package': False, 'which': False, 'is': True, 'makes': True, 'this': True, 'review': False, 'even': False, 'harder': False, 'write': False, 'since': True, 'i': False, 'generally': False, 'applaud': False, 'films': False, 'attempt': False, 'break': True, 'mold': False, 'mess': False, 'with': True, 'your': True, 'head': False, 'such': True, 'lost': False, 'highway': False, 'memento': False, 'there': True, 'are': True, 'good': False, 'ways': False, 'making': False, 'all': True, 'types': False, 'these': True, 'folks': False, 'just': False, 'didn': False, 't': True, 'snag': False, 'correctly': False, 'seem': True, 'have': True, 'taken': False, 'pretty': True, 'neat': False, 'concept': False, 'executed': False, 'terribly': False, 'so': True, 'problems': False, 'well': True, 'its': True, 'main': False, 'problem': False, 'simply': False, 'too': True, 'jumbled': False, 'starts': False, 'off': True, 'normal': True, 'downshifts': False, 'fantasy': False, 'world': False, 'you': True, 'as': True, 'audience': False, 'member': False, 'no': True, 'going': True, 'dreams': False, 'characters': False, 'coming': False, 'back': True, 'from': True, 'dead': False, 'others': False, 'who': True, 'look': True, 'like': True, 'strange': True, 'apparitions': False, 'disappearances': False, 'looooot': False, 'chase': False, 'scenes': True, 'tons': False, 'weird': False, 'things': False, 'happen': False, 'most': True, 'not': True, 'explained': False, 'now': True, 'personally': False, 'don': True, 'trying': False, 'unravel': True, 'film': True, 'every': False, 'when': False, 'does': True, 'give': False, 'me': False, 'same': True, 'clue': False, 'over': True, 'again': False, 'kind': False, 'fed': False, 'up': False, 'after': False, 'while': True, 'biggest': False, 'obviously': True, 'got': False, 'big': True, 'secret': True, 'hide': False, 'seems': True, 'want': False, 'completely': False, 'until': False, 'final': True, 'five': False, 'minutes': False, 'do': False, 'make': False, 'entertaining': False, 'thrilling': False, 'or': True, 'engaging': False, 'meantime': False, 'really': True, 'sad': False, 'part': True, 'arrow': False, 'both': True, 'dig': False, 'flicks': False, 'we': True, 'actually': True, 'figured': False, 'by': False, 'half': False, 'way': False, 'point': False, 'strangeness': False, 'did': True, 'start': True, 'little': False, 'bit': False, 'sense': True, 'still': True, 'more': False, 'guess': False, 'bottom': False, 'line': True, 'movies': False, 'should': False, 'always': False, 'sure': True, 'before': True, 'given': True, 'password': False, 'enter': False, 'understanding': False, 'mean': False, 'showing': False, 'melissa': False, 'sagemiller': False, 'running': False, 'away': False, 'visions': False, 'about': False, 'throughout': False, 'plain': False, 'lazy': False, 'okay': False, 'people': True, 'chasing': False, 'know': True, 'need': True, 'how': False, 'giving': False, 'us': False, 'different': True, 'offering': False, 'further': False, 'insight': False, 'down': False, 'apparently': False, 'studio': False, 'took': False, 'director': False, 'chopped': False, 'themselves': False, 'shows': False, 'might': False, 've': False, 'been': True, 'decent': False, 'here': True, 'somewhere': False, 'suits': False, 'decided': False, 'turning': False, 'music': False, 'video': False, 'edge': False, 'would': True, 'actors': False, 'although': False, 'wes': False, 'bentley': False, 'seemed': False, 'be': True, 'playing': False, 'exact': False, 'character': True, 'he': True, 'american': False, 'beauty': False, 'only': True, 'new': False, 'neighborhood': False, 'my': False, 'kudos': False, 'holds': False, 'own': False, 'entire': False, 'feeling': False, 'unraveling': False, 'overall': False, 'doesn': False, 'stick': False, 'because': True, 'entertain': False, 'confusing': False, 'rarely': False, 'excites': False, 'feels': False, 'redundant': False, 'runtime': False, 'despite': False, 'ending': False, 'explanation': False, 'craziness': False, 'came': False, 'oh': False, 'horror': False, 'slasher': False, 'flick': True, 'packaged': False, 'someone': False, 'assuming': False, 'genre': False, 'hot': True, 'kids': False, 'also': False, 'wrapped': False, 'production': False, 'years': False, 'ago': False, 'sitting': False, 'shelves': False, 'ever': False, 'whatever': False, 'skip': False, 'where': False, 'joblo': False, 'nightmare': False, 'elm': False, 'street': False, 'blair': False, 'witch': False, 'crow': False, 'salvation': False, 'stir': False, 'echoes': False, 'happy': False, 'bastard': False, 'quick': False, 'damn': False, 'bug': False, 'starring': False, 'jamie': False, 'lee': False, 'curtis': False, 'another': True, 'baldwin': False, 'brother': False, 'william': False, 'time': False, 'story': False, 'regarding': False, 'crew': False, 'tugboat': False, 'comes': False, 'across': False, 'deserted': False, 'russian': False, 'tech': False, 'ship': False, 'kick': False, 'power': False, 'within': False, 'gore': False, 'bringing': False, 'few': False, 'action': False, 'sequences': False, 'virus': False, 'empty': False, 'flash': False, 'substance': False, 'why': False, 'was': True, 'middle': False, 'nowhere': False, 'origin': False, 'pink': False, 'flashy': False, 'thing': False, 'hit': False, 'mir': False, 'course': False, 'donald': False, 'sutherland': False, 'stumbling': False, 'around': True, 'drunkenly': False, 'hey': False, 'let': False, 'some': True, 'robots': False, 'acting': False, 'below': False, 'average': False, 'likes': False, 're': True, 'likely': False, 'work': True, 'halloween': False, 'wasted': False, 'real': False, 'star': True, 'stan': False, 'winston': False, 'robot': False, 'design': False, 'schnazzy': False, 'cgi': False, 'occasional': False, 'shot': False, 'picking': False, 'brain': False, 'if': False, 'body': False, 'parts': False, 'turn': False, 'otherwise': False, 'much': False, 'sunken': False, 'jaded': False, 'viewer': False, 'thankful': False, 'invention': False, 'timex': False, 'indiglo': False, 'based': False, 'late': False, 'television': False, 'show': False, 'name': True, 'mod': False, 'squad': False, 'tells': False, 'tale': True, 'three': True, 'reformed': False, 'criminals': False, 'under': False, 'employ': False, 'police': False, 'undercover': False, 'however': False, 'wrong': False, 'evidence': False, 'gets': True, 'stolen': False, 'immediately': False, 'suspicion': False, 'ads': False, 'cuts': False, 'claire': False, 'dane': False, 'nice': False, 'hair': False, 'cute': False, 'outfits': False, 'car': False, 'chases': False, 'stuff': False, 'blowing': False, 'sounds': False, 'first': True, 'fifteen': False, 'quickly': True, 'becomes': False, 'apparent': False, 'certainly': True, 'slick': False, 'looking': False, 'complete': False, 'costumes': False, 'isn': True, 'enough': False, 'best': True, 'described': False, 'cross': False, 'between': False, 'hour': False, 'long': True, 'cop': False, 'stretched': False, 'span': False, 'single': False, 'clich': False, 'matter': False, 'elements': False, 'recycled': False, 'everything': False, 'already': True, 'seen': False, 'nothing': False, 'spectacular': False, 'sometimes': True, 'bordering': False, 'wooden': False, 'danes': False, 'omar': False, 'epps': False, 'deliver': False, 'their': True, 'lines': False, 'bored': False, 'transfers': False, 'onto': False, 'escape': False, 'relatively': False, 'unscathed': False, 'giovanni': False, 'ribisi': False, 'plays': False, 'resident': False, 'crazy': False, 'man': False, 'ultimately': False, 'being': False, 'worth': False, 'watching': True, 'unfortunately': False, 'save': False, 'convoluted': False, 'apart': False, 'occupying': False, 'screen': False, 'young': False, 'cast': True, 'clothes': False, 'hip': False, 'soundtrack': False, 'appears': False, 'geared': False, 'towards': False, 'teenage': False, 'mindset': False, 'r': False, 'rating': False, 'content': False, 'justify': False, 'juvenile': False, 'older': False, 'information': False, 'literally': False, 'spoon': False, 'hard': True, 'instead': False, 'telling': False, 'dialogue': False, 'poorly': False, 'written': False, 'extremely': False, 'predictable': False, 'progresses': False, 'won': True, 'care': False, 'heroes': False, 'any': False, 'jeopardy': False, 'll': False, 'aren': False, 'basing': False, 'nobody': False, 'remembers': False, 'questionable': False, 'wisdom': False, 'especially': False, 'considers': False, 'target': False, 'fact': False, 'number': True, 'memorable': False, 'can': False, 'counted': False, 'hand': False, 'missing': False, 'finger': False, 'times': False, 'checked': False, 'six': False, 'clear': False, 'indication': False, 'them': False, 'than': False, 'cash': True, 'spending': False, 'dollar': False, 'judging': False, 'rash': False, 'awful': False, 'seeing': False, 'avoid': False, 'at': True, 'costs': False, 'quest': False, 'camelot': False, 'warner': False, 'bros': False, 'feature': False, 'length': False, 'fully': False, 'animated': False, 'steal': True, 'clout': False, 'disney': False, 'cartoon': False, 'empire': False, 'mouse': False, 'reason': False, 'worried': False, 'other': False, 'recent': False, 'challenger': False, 'throne': False, 'last': False, 'fall': False, 'promising': False, 'flawed': False, 'century': False, 'fox': False, 'anastasia': False, 'hercules': False, 'lively': True, 'colorful': True, 'palate': False, 'had': False, 'beat': False, 'hands': False, 'crown': False, 'piece': False, 'animation': False, 'year': True, 'contest': False, 'arrival': False, 'magic': False, 'kingdom': False, 'mediocre': False, 'd': True, 'pocahontas': False, 'those': True, 'keeping': False, 'score': False, 'nearly': False, 'dull': False, 'revolves': False, 'adventures': False, 'free': False, 'spirited': False, 'kayley': False, 'voiced': False, 'jessalyn': False, 'gilsig': False, 'early': False, 'daughter': True, 'belated': False, 'knight': False, 'king': False, 'arthur': False, 'round': False, 'table': False, 'dream': True, 'follow': True, 'father': False, 'footsteps': False, 'she': True, 'chance': False, 'evil': False, 'warlord': False, 'ruber': False, 'gary': False, 'oldman': False, 'ex': False, 'gone': False, 'steals': False, 'magical': False, 'sword': True, 'excalibur': False, 'accidentally': False, 'loses': False, 'dangerous': False, 'booby': False, 'trapped': False, 'forest': False, 'help': True, 'hunky': False, 'blind': False, 'timberland': False, 'dweller': False, 'garrett': False, 'carey': False, 'elwes': False, 'headed': False, 'dragon': False, 'eric': False, 'idle': False, 'rickles': False, 'arguing': False, 'itself': False, 'able': False, 'medieval': False, 'sexist': False, 'prove': False, 'fighter': False, 'side': False, 'pure': False, 'showmanship': False, 'essential': False, 'element': False, 'expected': False, 'climb': False, 'high': True, 'ranks': False, 'differentiates': False, 'something': False, 'saturday': False, 'morning': False, 'subpar': False, 'instantly': False, 'forgettable': False, 'songs': False, 'integrated': False, 'computerized': False, 'footage': False, 'compare': False, 'run': False, 'angry': False, 'ogre': False, 'herc': False, 'battle': False, 'hydra': False, 'rest': False, 'case': True, 'stink': False, 'none': False, 'remotely': False, 'interesting': False, 'race': False, 'bland': True, 'end': False, 'tie': False, 'win': True, 'comedy': True, 'shtick': False, 'awfully': False, 'cloying': False, 'least': True, 'signs': False, 'pulse': False, 'fans': False, 'tgif': False, 'will': True, 'thrilled': False, 'jaleel': False, 'urkel': False, 'white': False, 'bronson': False, 'balki': False, 'pinchot': False, 'sharing': False, 'nicely': False, 'realized': False, 'though': True, 'm': False, 'loss': False, 'recall': False, 'specific': False, 'providing': False, 'voice': False, 'talent': False, 'enthusiastic': False, 'paired': False, 'singers': False, 'sound': False, 'musical': False, 'moments': False, 'jane': False, 'seymour': False, 'celine': False, 'dion': False, 'must': True, 'strain': False, 'through': False, 'aside': False, 'children': False, 'probably': False, 'adults': False, 'grievous': False, 'error': False, 'lack': False, 'personality': True, 'learn': False, 'goes': True, 'synopsis': False, 'mentally': False, 'unstable': False, 'undergoing': False, 'psychotherapy': False, 'saves': False, 'boy': False, 'potentially': False, 'fatal': False, 'falls': False, 'love': False, 'mother': False, 'fledgling': False, 'restauranteur': False, 'unsuccessfully': False, 'attempting': False, 'gain': False, 'woman': False, 'favor': False, 'takes': False, 'pictures': False, 'kills': False, 'comments': False, 'stalked': False, 'yet': False, 'seemingly': False, 'endless': False, 'string': False, 'spurned': False, 'psychos': False, 'getting': False, 'revenge': False, 'type': False, 'stable': False, 'category': False, 'industry': False, 'theatrical': False, 'direct': False, 'proliferation': False, 'may': True, 'due': False, 'typically': False, 'inexpensive': False, 'produce': False, 'special': False, 'effects': False, 'stars': False, 'serve': False, 'vehicles': False, 'nudity': False, 'allowing': False, 'frequent': False, 'night': True, 'cable': False, 'wavers': False, 'slightly': False, 'norm': False, 'respect': False, 'psycho': False, 'never': True, 'affair': False, 'contrary': False, 'rejected': False, 'rather': False, 'lover': False, 'wife': True, 'husband': True, 'entry': False, 'doomed': False, 'collect': False, 'dust': False, 'viewed': False, 'midnight': False, 'provide': False, 'suspense': False, 'sets': False, 'interspersed': False, 'opening': False, 'credits': False, 'instance': False, 'serious': False, 'sounding': False, 'narrator': False, 'spouts': False, 'statistics': False, 'stalkers': False, 'ponders': False, 'cause': False, 'stalk': False, 'implicitly': False, 'implied': False, 'men': False, 'shown': False, 'snapshot': False, 'actor': False, 'jay': False, 'underwood': False, 'states': False, 'daryl': False, 'gleason': False, 'stalker': False, 'brooke': False, 'daniels': False, 'meant': False, 'called': False, 'guesswork': False, 'required': False, 'proceeds': False, 'begins': False, 'obvious': False, 'sequence': True, 'contrived': False, 'quite': False, 'brings': False, 'victim': False, 'together': False, 'obsesses': False, 'follows': False, 'tries': False, 'woo': False, 'plans': False, 'become': False, 'desperate': True, 'elaborate': False, 'include': False, 'cliche': False, 'murdered': False, 'pet': False, 'require': False, 'found': False, 'exception': False, 'cat': False, 'shower': False, 'events': False, 'lead': False, 'inevitable': False, 'showdown': False, 'survives': False, 'invariably': False, 'conclusion': False, 'turkey': False, 'uniformly': False, 'adequate': False, 'anything': True, 'home': False, 'either': False, 'turns': True, 'toward': False, 'melodrama': False, 'overdoes': False, 'words': True, 'manages': False, 'creepy': False, 'pass': False, 'demands': False, 'maryam': False, 'abo': False, 'close': False, 'played': False, 'bond': False, 'chick': False, 'living': False, 'daylights': False, 'equally': False, 'title': False, 'ditzy': False, 'strong': False, 'independent': False, 'business': False, 'owner': False, 'needs': False, 'proceed': False, 'example': False, 'suspicions': False, 'ensure': False, 'use': False, 'excuse': False, 'decides': False, 'return': False, 'toolbox': False, 'left': False, 'place': False, 'house': True, 'leave': False, 'door': False, 'answers': False, 'opens': False, 'wanders': False, 'returns': False, 'enters': False, 'our': False, 'heroine': False, 'danger': False, 'somehow': False, 'parked': False, 'front': False, 'right': False, 'oblivious': False, 'presence': True, 'inside': False, 'whole': False, 'episode': False, 'places': False, 'incredible': False, 'suspension': False, 'disbelief': False, 'questions': False, 'validity': False, 'intelligence': False, 'receives': False, 'highly': False, 'derivative': False, 'somewhat': False, 'boring': True, 'cannot': False, 'watched': False, 'rated': False, 'mostly': False, 'several': False, 'murder': False, 'brief': False, 'strip': False, 'bar': False, 'offensive': False, 'many': True, 'thrillers': False, 'mood': False, 'stake': False, 'else': False, 'capsule': False, 'planet': False, 'mars': False, 'taking': False, 'custody': False, 'accused': False, 'murderer': False, 'face': True, 'menace': False, 'lot': False, 'fighting': False, 'john': True, 'carpenter': False, 'reprises': False, 'ideas': False, 'previous': False, 'assault': False, 'precinct': False, 'homage': False, 'himself': True, 'believes': False, 'fight': False, 'horrible': False, 'writer': False, 'supposedly': False, 'expert': False, 'mistake': False, 'ghosts': False, 'drawn': False, 'humans': False, 'surprisingly': True, 'low': False, 'powered': False, 'alien': False, 'addition': False, 'anybody': False, 'made': False, 'grounds': False, 'sue': False, 'chock': False, 'full': False, 'pieces': False, 'prince': False, 'darkness': False, 'surprising': False, 'managed': False, 'fit': False, 'admittedly': False, 'novel': False, 'science': False, 'fiction': False, 'experience': True, 'terraformed': False, 'walk': False, 'surface': False, 'without': True, 'breathing': False, 'gear': False, 'budget': False, 'mentioned': False, 'gravity': False, 'increased': False, 'earth': False, 'easier': False, 'society': False, 'changed': False, 'advanced': False, 'culture': False, 'women': False, 'positions': False, 'control': False, 'view': False, 'stagnated': False, 'female': False, 'beyond': True, 'minor': False, 'technological': False, 'advances': False, 'less': False, 'expect': True, 'change': False, 'ten': False, 'basic': False, 'common': False, 'except': False, 'yes': False, 'replaced': False, 'tacky': False, 'rundown': False, 'martian': False, 'mining': False, 'colony': False, 'having': False, 'criminal': False, 'napolean': False, 'wilson': False, 'desolation': False, 'williams': False, 'facing': False, 'hoodlums': False, 'automatic': False, 'weapons': False, 'nature': False, 'behave': False, 'manner': False, 'essentially': False, 'human': False, 'savages': False, 'lapse': False, 'imagination': False, 'told': False, 'flashback': False, 'entirely': False, 'filmed': False, 'almost': False, 'tones': False, 'red': False, 'yellow': False, 'black': True, 'powerful': False, 'scene': False, 'train': False, 'rushing': False, 'heavy': True, 'sadly': False, 'buildup': False, 'terror': False, 'creates': False, 'looks': False, 'fugitive': False, 'wannabes': False, 'rock': False, 'band': False, 'kiss': False, 'building': False, 'bunch': False, 'sudden': False, 'jump': False, 'sucker': False, 'thinking': False, 'scary': False, 'happening': False, 'standard': False, 'haunted': False, 'shock': False, 'great': True, 'newer': False, 'unimpressive': False, 'digital': False, 'decapitations': False, 'fights': False, 'short': False, 'stretch': False, 'release': False, 'mission': False, 'panned': False, 'reviewers': False, 'better': True, 'rate': False, 'scale': False, 'following': False, 'showed': False, 'liked': False, 'moderately': False, 'classic': False, 'comment': False, 'twice': False, 'ask': False, 'yourself': False, 'eight': False, 'millimeter': False, 'wholesome': False, 'surveillance': False, 'sight': False, 'values': False, 'becoming': False, 'enmeshed': False, 'seedy': False, 'sleazy': False, 'underworld': False, 'hardcore': False, 'pornography': False, 'bubbling': False, 'beneath': False, 'town': False, 'americana': False, 'sordid': False, 'sick': False, 'depraved': False, 'necessarily': False, 'stop': False, 'order': False, 'satisfy': False, 'twisted': False, 'desires': False, 'position': False, 'influence': False, 'kinds': False, 'demented': False, 'talking': False, 'snuff': False, 'supposed': True, 'documentaries': False, 'victims': False, 'brutalized': False, 'killed': False, 'camera': False, 'joel': True, 'schumacher': False, 'credit': False, 'batman': False, 'robin': False, 'kill': False, 'forever': False, 'client': False, 'thirds': False, 'unwind': False, 'fairly': False, 'conventional': False, 'persons': False, 'drama': False, 'albeit': False, 'particularly': False, 'unsavory': False, 'core': False, 'threatening': True, 'along': True, 'explodes': False, 'violence': False, 'think': False, 'finally': False, 'tags': True, 'ridiculous': False, 'self': False, 'righteous': False, 'finale': False, 'drags': False, 'unpleasant': False, 'trust': False, 'waste': False, 'hours': False, 'nicolas': False, 'snake': False, 'eyes': False, 'cage': False, 'private': False, 'investigator': False, 'tom': False, 'welles': False, 'hired': False, 'wealthy': False, 'philadelphia': False, 'widow': False, 'determine': False, 'whether': True, 'reel': False, 'safe': False, 'documents': False, 'girl': False, 'assignment': False, 'factly': False, 'puzzle': False, 'neatly': False, 'specialized': False, 'skills': False, 'training': False, 'easy': False, 'cops': True, 'toilet': False, 'tanks': False, 'clues': False, 'deeper': False, 'digs': False, 'investigation': False, 'obsessed': False, 'george': False, 'c': False, 'scott': False, 'paul': False, 'schrader': False, 'occasionally': False, 'flickering': False, 'whirs': False, 'sprockets': False, 'winding': False, 'projector': False, 'reminding': False, 'task': False, 'hints': False, 'toll': False, 'lovely': False, 'catherine': False, 'keener': False, 'frustrated': False, 'cleveland': False, 'ugly': False, 'split': False, 'level': True, 'harrisburg': False, 'pa': False, 'condemn': False, 'condone': False, 'subject': False, 'exploits': False, 'irony': False, 'seven': False, 'scribe': False, 'andrew': False, 'kevin': False, 'walker': False, 'vision': False, 'lane': False, 'limited': False, 'hollywood': False, 'product': True, 'snippets': False, 'covering': False, 'later': False, 'joaquin': False, 'phoenix': False, 'far': True, 'adult': True, 'bookstore': False, 'flunky': False, 'max': False, 'california': False, 'cover': False, 'horrid': False, 'screened': False, 'familiar': False, 'revelation': False, 'sexual': False, 'deviants': False, 'indeed': False, 'monsters': False, 'everyday': False, 'neither': False, 'super': False, 'nor': False, 'shocking': False, 'banality': False, 'exactly': False, 'felt': False, 'weren': False, 'nine': False, 'laughs': False, 'months': True, 'terrible': False, 'mr': False, 'hugh': False, 'grant': False, 'huge': False, 'dork': False, 'oral': False, 'sex': False, 'prostitution': False, 'referring': False, 'bugs': False, 'annoying': False, 'adam': False, 'sandler': False, 'jim': False, 'carrey': False, 'eye': False, 'flutters': False, 'nervous': False, 'smiles': False, 'slapstick': False, 'fistfight': False, 'delivery': False, 'room': False, 'culminating': False, 'joan': False, 'cusack': False, 'lap': False, 'paid': False, 'included': False, 'obscene': False, 'double': False, 'entendres': False, 'obstetrician': False, 'pregnant': False, 'pussy': False, 'size': False, 'hairs': False, 'coat': False, 'nonetheless': False, 'exchange': False, 'cookie': False, 'cutter': False, 'originality': False, 'humor': True, 'successful': False, 'child': False, 'psychiatrist': False, 'psychologist': False, 'scriptwriters': False, 'could': False, 'inject': False, 'unfunny': False, 'kid': False, 'dad': False, 'asshole': False, 'eyelashes': False, 'offers': False, 'smile': False, 'responds': False, 'english': False, 'accent': False, 'attitude': False, 'possibly': False, 'beside': False, 'includes': False, 'needlessly': False, 'stupid': False, 'jokes': False, 'olds': False, 'everyone': False, 'shakes': False, 'anyway': False, 'finds': True, 'usual': False, 'reaction': False, 'fluttered': False, 'paves': False, 'possible': False, 'pregnancy': False, 'birth': True, 'gag': False, 'book': False, 'friend': False, 'arnold': False, 'provides': False, 'cacophonous': False, 'funny': False, 'beats': False, 'costumed': False, 'arnie': False, 'dinosaur': False, 'draw': False, 'parallels': False, 'toy': False, 'store': False, 'jeff': True, 'goldblum': False, 'hid': False, 'dreadful': False, 'hideaway': False, 'artist': True, 'fear': True, 'simultaneous': False, 'longing': False, 'commitment': False, 'doctor': False, 'recently': False, 'switch': False, 'veterinary': False, 'medicine': False, 'obstetrics': False, 'joke': False, 'old': False, 'foreign': False, 'guy': True, 'mispronounces': False, 'stereotype': False, 'say': False, 'yakov': False, 'smirnov': False, 'favorite': False, 'vodka': False, 'hence': False, 'take': False, 'volvo': False, 'nasty': False, 'unamusing': False, 'heads': False, 'simultaneously': False, 'groan': False, 'failure': False, 'loud': False, 'failed': False, 'uninspired': False, 'lunacy': False, 'sunset': False, 'boulevard': False, 'arrest': False, 'please': False, 'caught': False, 'pants': False, 'bring': False, 'theaters': False, 'faces': False, 'forced': False, 'unauthentic': False, 'anyone': False, 'q': False, 'sorry': False, 'money': True, 'unfulfilled': False, 'desire': False, 'spend': False, 'bucks': False, 'call': True, 'road': False, 'trip': False, 'walking': False, 'wounded': False, 'stellan': False, 'skarsg': False, 'rd': False, 'convincingly': False, 'zombified': False, 'drunken': False, 'loser': False, 'difficult': False, 'smelly': False, 'boozed': False, 'reliable': False, 'swedish': False, 'adds': False, 'depth': False, 'significance': False, 'plodding': False, 'aberdeen': False, 'sentimental': False, 'painfully': False, 'mundane': False, 'european': False, 'playwright': False, 'august': False, 'strindberg': False, 'built': False, 'career': False, 'families': False, 'relationships': False, 'paralyzed': False, 'secrets': False, 'unable': False, 'express': False, 'longings': False, 'accurate': False, 'reflection': False, 'strives': False, 'focusing': False, 'pairing': False, 'alcoholic': False, 'tomas': False, 'alienated': False, 'openly': False, 'hostile': False, 'yuppie': False, 'kaisa': False, 'lena': False, 'headey': False, 'gossip': False, 'haven': False, 'spoken': False, 'wouldn': False, 'norway': False, 'scotland': False, 'automobile': False, 'charlotte': False, 'rampling': False, 'sand': False, 'rotting': False, 'hospital': False, 'bed': False, 'cancer': False, 'soap': False, 'opera': False, 'twist': False, 'days': False, 'live': False, 'blitzed': False, 'step': False, 'foot': False, 'plane': False, 'hits': False, 'open': False, 'loathing': False, 'each': False, 'periodic': False, 'stops': False, 'puke': False, 'dashboard': False, 'whenever': False, 'muttering': False, 'rotten': False, 'turned': False, 'sloshed': False, 'viewpoint': False, 'recognizes': False, 'apple': False, 'hasn': False, 'fallen': False, 'tree': False, 'nosebleeds': False, 'snorting': False, 'coke': False, 'sabotages': False, 'personal': False, 'indifference': False, 'restrain': False, 'vindictive': False, 'temper': True, 'ain': False, 'pair': True, 'true': False, 'notes': False, 'unspoken': False, 'familial': False, 'empathy': False, 'note': False, 'repetitively': False, 'bitchy': False, 'screenwriters': False, 'kristin': False, 'amundsen': False, 'hans': False, 'petter': False, 'moland': False, 'fabricate': False, 'series': False, 'contrivances': False, 'propel': False, 'forward': False, 'roving': False, 'hooligans': False, 'drunks': False, 'nosy': False, 'flat': False, 'tires': False, 'figure': False, 'schematic': False, 'convenient': False, 'narrative': False, 'reach': False, 'unveil': False, 'dark': False, 'past': False, 'simplistic': False, 'devices': False, 'trivialize': False, 'conflict': False, 'mainstays': False, 'wannabe': False, 'exists': False, 'purely': False, 'sake': False, 'weak': False, 'unimaginative': False, 'casting': False, 'thwarts': False, 'pivotal': False, 'role': False, 'were': False, 'stronger': False, 'actress': False, 'perhaps': False, 'coast': False, 'performances': False, 'moody': False, 'haunting': False, 'cinematography': False, 'rendering': False, 'pastoral': False, 'ghost': False, 'reference': False, 'certain': False, 'superior': False, 'indie': False, 'intentional': False, 'busy': False, 'using': False, 'furrowed': False, 'brow': False, 'convey': False, 'twitch': False, 'insouciance': False, 'paying': False, 'attention': False, 'maybe': True, 'doing': False, 'reveal': False, 'worthwhile': False, 'earlier': False, 'released': False, 'jonathan': False, 'nossiter': False, 'captivating': False, 'wonders': False, 'disturbed': False, 'parental': False, 'figures': False, 'bound': False, 'ceremonial': False, 'wedlock': False, 'differences': False, 'presented': False, 'significant': False, 'luminous': False, 'diva': False, 'preening': False, 'static': False, 'solid': True, 'performance': True, 'pathetic': False, 'drunk': False, 'emote': False, 'besides': False, 'catatonic': False, 'sorrow': False, 'genuine': False, 'ferocity': False, 'sexually': False, 'charged': False, 'frisson': False, 'during': True, 'understated': False, 'confrontations': False, 'suggest': False, 'gray': False, 'zone': False, 'complications': False, 'accompany': False, 'torn': False, 'romance': False, 'stifled': False, 'curiosity': False, 'thoroughly': False, 'explores': False, 'neurotic': False, 'territory': False, 'delving': False, 'americanization': False, 'greece': False, 'mysticism': False, 'illusion': False, 'deflect': False, 'pain': False, 'overloaded': False, 'willing': False, 'come': False, 'traditional': False, 'ambitious': False, 'sleepwalk': False, 'rhythms': False, 'timing': False, 'driven': False, 'stories': False, 'complexities': False, 'depressing': False, 'answer': False, 'lawrence': False, 'kasdan': False, 'trite': False, 'useful': False, 'grand': False, 'canyon': False, 'steve': True, 'martin': False, 'mogul': False, 'pronounces': False, 'riddles': False, 'answered': False, 'advice': False, 'heart': False, 'french': False, 'sees': False, 'parents': False, 'tim': False, 'roth': False, 'oops': False, 'vows': False, 'taught': False, 'musketeer': False, 'dude': True, 'used': False, 'fourteen': False, 'arrgh': False, 'swish': False, 'zzzzzzz': False, 'original': False, 'lacks': False, 'energy': False, 'next': True, 'hmmmm': False, 'justin': False, 'chambers': False, 'basically': False, 'uncharismatic': False, 'version': False, 'chris': False, 'o': False, 'donnell': False, 'range': False, 'mena': False, 'suvari': False, 'thora': False, 'birch': False, 'dungeons': False, 'dragons': False, 'miscast': False, 'deliveries': False, 'piss': False, 'poor': False, 'ms': False, 'fault': False, 'definitely': False, 'higher': False, 'semi': False, 'saving': False, 'grace': False, 'wise': False, 'irrepressible': False, 'once': True, 'thousand': False, 'god': False, 'beg': False, 'agent': False, 'marketplace': False, 'modern': False, 'day': False, 'roles': False, 'romantic': False, 'gunk': False, 'alright': False, 'yeah': False, 'yikes': False, 'notches': False, 'fellas': False, 'blares': False, 'ear': False, 'accentuate': False, 'annoy': False, 'important': False, 'behind': False, 'recognize': True, 'epic': False, 'fluffy': False, 'rehashed': False, 'cake': False, 'created': False, 'shrewd': False, 'advantage': False, 'kung': False, 'fu': False, 'phenomenon': False, 'test': False, 'dudes': False, 'keep': True, 'reading': False, 'editing': False, 'shoddy': False, 'banal': False, 'stilted': False, 'plentiful': False, 'top': False, 'horse': False, 'carriage': False, 'stand': False, 'opponent': False, 'scampering': False, 'cut': False, 'mouseketeer': False, 'rope': False, 'tower': False, 'jumping': False, 'chords': False, 'hanging': False, 'says': False, 'shirt': False, 'strayed': False, 'championing': False, 'fun': True, 'stretches': False, 'atrocious': False, 'lake': False, 'reminded': False, 'school': False, 'cringe': False, 'musketeers': False, 'fat': False, 'raison': False, 'etre': False, 'numbers': False, 'hoping': False, 'packed': False, 'stuntwork': False, 'promoted': False, 'trailer': False, 'major': False, 'swashbuckling': False, 'beginning': False, 'finishes': False, 'juggling': True, 'ladders': False, 'ladder': False, 'definite': False, 'keeper': False, 'regurgitated': False, 'crap': False, 'tell': False, 'deneuve': False, 'placed': False, 'hullo': False, 'barely': False, 'ugh': False, 'small': False, 'annoyed': False, 'trash': False, 'gang': False, 'vow': False, 'stay': False, 'thank': False, 'outlaws': False, 'crouching': False, 'tiger': False, 'hidden': False, 'matrix': False, 'replacement': False, 'killers': False, 'romeo': False, 'die': False, 'shanghai': False, 'noon': False, 'remembered': False, 'dr': False, 'hannibal': False, 'lecter': False, 'michael': False, 'mann': False, 'forensics': False, 'thriller': False, 'manhunter': False, 'scottish': False, 'brian': False, 'cox': False, 'works': False, 'usually': False, 'schlock': False, 'halfway': False, 'goodnight': False, 'meaty': False, 'substantial': False, 'brilliant': False, 'check': False, 'dogged': False, 'inspector': False, 'opposite': False, 'frances': False, 'mcdormand': False, 'ken': False, 'loach': False, 'agenda': False, 'harrigan': False, 'disturbing': False, 'l': False, 'e': False, 'picked': False, 'sundance': False, 'distributors': False, 'scared': False, 'budge': False, 'dares': False, 'speak': False, 'expresses': False, 'seeking': False, 'adolescents': False, 'pad': False, 'bothered': False, 'members': True, 'presentation': False, 'oddly': False, 'empathetic': False, 'light': False, 'tempered': False, 'robust': False, 'listens': False, 'opposed': False, 'friends': False, 'wire': False, 'act': True, 'confused': False, 'lives': False, 'pay': False, 'courtship': False, 'charming': False, 'temptations': False, 'grown': False, 'stands': False, 'island': False, 'expressway': False, 'slices': False, 'malls': False, 'class': False, 'homes': False, 'suburbia': False, 'filmmaker': False, 'cuesta': False, 'uses': False, 'transparent': False, 'metaphor': False, 'protagonist': False, 'howie': False, 'franklin': False, 'dano': False, 'reveals': False, 'morbid': False, 'preoccupation': False, 'death': False, 'citing': False, 'deaths': False, 'alan': False, 'j': False, 'pakula': False, 'songwriter': False, 'harry': False, 'chapin': False, 'exit': False, 'fascinated': False, 'feelings': False, 'projected': False, 'bright': False, 'move': False, 'force': False, 'complex': False, 'molesters': False, 'beast': False, 'ashamed': False, 'worked': False, 'ill': False, 'advised': False, 'foray': False, 'unnecessary': False, 'padding': False, 'miserable': False, 'bruce': False, 'altman': True, 'seat': False, 'collar': False, 'crime': False, 'degenerate': False, 'youngsters': False, 'kicks': False, 'robbing': False, 'houses': False, 'homoerotic': False, 'shenanigans': False, 'ass': False, 'terrio': False, 'billy': False, 'kay': False, 'handsome': False, 'artful': False, 'dodger': False, 'add': False, 'themes': False, 'suburban': False, 'ennui': False, 'needed': False, 'awkward': False, 'subplots': True, 'concurrently': False, 'relationship': False, 'evenly': False, 'paced': False, 'exceptionally': False, 'acted': False, 'sporting': False, 'baseball': False, 'cap': False, 'faded': False, 'marine': False, 'tattoo': False, 'bluff': False, 'bluster': False, 'quiet': False, 'glance': False, 'withdrawn': False, 'whose': True, 'dramatic': False, 'choices': False, 'broad': False, 'calling': False, 'haley': False, 'restraint': False, 'admirable': False, 'screenplay': False, 'material': True, 'reads': False, 'walt': False, 'whitman': False, 'poem': False, 'moment': True, 'precious': False, 'lingers': False, 'ecstatic': False, 'hearing': False, 'glenn': False, 'gould': False, 'performing': False, 'bach': False, 'goldberg': False, 'variations': False, 'involving': False, 'walter': True, 'masterson': False, 'jealous': False, 'newbie': False, 'thread': False, 'predictably': False, 'leads': False, 'observational': False, 'portrait': False, 'alienation': False, 'royally': False, 'screwed': False, 'terry': False, 'zwigoff': False, 'superb': False, 'confidence': False, 'ambivalent': False, 'typical': False, 'cinema': False, 'wrap': False, 'bullet': False, 'sparing': False, 'writers': False, 'philosophical': False, 'regard': False, 'countless': False, 'share': False, 'blockbuster': False, 'solved': False, 'obstacle': False, 'removed': False, 'often': False, 'extend': False, 'question': True, 'striving': False, 'realism': False, 'destroy': False, 'janeane': False, 'garofalo': False, 'couple': True, 'truth': True, 'cats': False, 'dogs': False, 'excruciating': False, 'matchmaker': False, 'books': False, 'plods': False, 'predestined': False, 'surprises': False, 'jumps': False, 'popular': False, 'political': False, 'satire': False, 'bandwagon': False, 'campaign': False, 'aide': False, 'massacusetts': False, 'senator': False, 'sanders': False, 'reelection': False, 'denis': False, 'leary': False, 'stereotypical': False, 'strategist': False, 'ethics': False, 'scandal': False, 'plagued': False, 'play': False, 'irish': False, 'roots': False, 'boston': False, 'roman': False, 'catholic': False, 'democrat': False, 'contingent': False, 'kennedy': False, 'family': False, 'orders': False, 'ireland': False, 'relatives': False, 'exploit': False, 'soon': True, 'learns': False, 'said': False, 'done': False, 'mantra': False, 'tiny': False, 'misses': False, 'bus': False, 'hotel': False, 'ends': False, 'smallest': False, 'trashiest': False, 'dog': False, 'luggage': False, 'roger': False, 'ebert': False, 'calls': False, 'meet': False, 'happens': False, 'unconventional': False, 'cinematic': True, 'walks': False, 'bathroom': False, 'nude': False, 'sean': False, 'david': True, 'hara': False, 'bathtub': True, 'points': False, 'guessing': False, 'water': True, 'hates': False, 'instant': False, 'saw': False, 'irishman': False, 'hate': False, 'awhile': False, 'succumb': False, 'charms': False, 'happily': False, 'superficial': False, 'detail': False, 'throw': False, 'turmoil': False, 'reconcile': False, 'tune': False, 'annual': False, 'matchmaking': False, 'festival': False, 'lonely': False, 'county': False, 'future': False, 'bliss': False, 'milo': False, 'shea': False, 'snyder': False, 'pops': False, 'onscreen': False, 'spew': False, 'souls': False, 'assured': False, 'match': False, 'utter': False, 'predictability': False, 'message': False, 'respectable': False, 'person': False, 'comedic': False, 'distinction': False, 'sell': False, 'script': False, 'excited': False, 'stays': False, 'stateside': False, 'yelling': False, 'phone': False, 'undoes': False, 'microphone': False, 'speech': False, 'known': False, 'flying': False, 'hong': False, 'kong': False, 'style': False, 'filmmaking': False, 'classics': False, 'nod': False, 'asia': False, 'france': False, 'lukewarm': False, 'dumas': False, 'asian': False, 'stunt': False, 'coordinator': False, 'xing': False, 'xiong': False, 'prior': False, 'attempts': False, 'choreography': False, 'laughable': False, 'van': False, 'damme': False, 'vehicle': False, 'team': False, 'dennis': False, 'rodman': False, 'simon': False, 'sez': False, 'thrown': False, 'air': False, 'result': False, 'tepid': False, 'adventure': False, 'rip': False, 'stinks': False, 'indiana': False, 'jones': False, 'simple': False, 'grandmother': False, 'adapted': False, 'artagnan': False, 'vengeful': False, 'son': False, 'slain': False, 'travels': False, 'paris': False, 'join': False, 'royal': False, 'meets': False, 'cunning': False, 'cardinal': False, 'richelieu': False, 'stephen': False, 'rea': False, 'overthrow': False, 'associate': False, 'febre': False, 'killer': False, 'disbanded': False, 'rounds': False, 'aramis': False, 'nick': False, 'moran': False, 'athos': False, 'jan': False, 'gregor': False, 'kremp': False, 'porthos': False, 'steven': False, 'spiers': False, 'wrongfully': False, 'imprisoned': False, 'leader': False, 'treville': False, 'prison': False, 'frisky': False, 'interest': False, 'chambermaid': False, 'francesca': False, 'footsy': False, 'coo': False, 'hunts': False, 'queen': False, 'captured': False, 'menancing': False, 'forcing': False, 'regroup': False, 'leading': False, 'charge': False, 'peter': True, 'hyams': False, 'wanted': False, 'blend': False, 'eastern': False, 'western': False, 'styles': False, 'disaster': False, 'reality': False, 'ones': False, 'jet': False, 'li': False, 'risk': False, 'ironically': False, 'swordplay': False, 'spread': False, 'carry': False, 'bulk': False, 'minute': False, 'picture': False, 'weighs': False, 'monotonous': False, 'gene': False, 'quintano': False, 'prosaic': False, 'wedding': True, 'planner': False, 'mousy': False, 'artangnan': False, 'hyam': False, 'candles': False, 'torches': False, 'grime': False, 'filth': False, 'noted': False, 'standout': False, 'mortal': False, 'kombat': False, 'annihilation': False, 'reviewed': False, 'multiple': False, 'levels': False, 'rampant': False, 'usage': False, 'randian': False, 'subtext': False, 'pervades': False, 'occasionaly': False, 'ironic': False, 'depreciating': False, 'remark': False, 'tosses': False, 'clearly': False, 'marxist': False, 'imagery': False, 'kidding': False, 'seriousness': False, 'fair': False, 'necessary': False, 'viewpoints': False, 'watcher': False, 'unfamiliar': False, 'marginally': False, 'fan': False, 'games': False, 'concerned': False, 'martial': False, 'arts': False, 'tournament': False, 'decide': False, 'fate': False, 'billion': False, 'inhabitants': False, 'mortals': False, 'theory': False, 'prevented': False, 'emperor': False, 'shao': False, 'khan': False, 'arriving': False, 'ready': False, 'assumed': False, 'stance': False, 'extraordinarily': False, 'myself': False, 'game': False, 'enjoyed': False, 'directors': False, 'knew': False, 'limitations': False, 'try': False, 'overachieve': False, 'accompanying': False, 'intersperesed': False, 'distracting': False, 'non': False, 'intrusive': False, 'bits': False, 'fluff': False, 'passing': False, 'smashing': True, 'success': True, 'box': False, 'office': False, 'picks': False, 'precisely': False, 'introductory': False, 'exposition': False, 'anyways': False, 'hell': False, 'silly': False, 'rule': False, 'winning': False, 'thereafter': False, 'approximately': False, 'alternates': False, 'general': False, 'impression': False, 'producers': False, 'thought': False, 'formula': False, 'volumes': False, 'truly': True, 'sandra': False, 'hess': False, 'sonya': False, 'blade': False, 'execrable': False, 'convince': False, 'loved': False, 'johnny': False, 'greased': False, 'worst': False, 'mis': False, 'james': False, 'remar': False, 'raiden': False, 'thunder': False, 'christopher': False, 'lambert': False, 'japanese': False, 'revered': False, 'chinese': False, 'mystics': False, 'against': True, 'lister': False, 'jr': False, 'president': False, 'u': False, 'fifth': False, 'utility': False, 'totally': False, 'luxury': False, 'amused': False, 'awareness': False, 'introduced': False, 'meaningless': False, 'sidetracks': False, 'including': False, 'muddled': False, 'liu': False, 'kang': False, 'shou': False, 'seeks': False, 'nightwolf': False, 'litefoot': False, 'mystical': False, 'hallucination': False, 'jade': False, 'irina': False, 'pantaeva': False, 'reasons': False, 'unless': False, 'critiques': False, 'apply': False, 'worse': False, 'bridgette': False, 'convincing': False, 'looked': False, 'mimicing': False, 'movements': False, 'choreographer': False, 'knows': False, 'puts': False, 'believable': False, 'jax': False, 'earthquake': False, 'animality': False, 'bonus': False, 'similar': False, 'moves': False, 'mistakenly': False, 'hang': False, 'lamest': False, 'involved': False, 'mud': False, 'wrestling': False, 'lame': False, 'politically': False, 'incorrect': False, 'noticed': False, 'remarked': False, 'upon': False, 'emporer': False, 'perform': False, 'animalities': False, 'motaro': False, 'sheeva': False, 'lifelike': False, 'goro': False, 'enjoy': False, 'femme': False, 'la': False, 'nikita': False, 'backdraft': False, 'sliver': False, 'cindy': False, 'crawford': False, 'anne': False, 'parillaud': False, 'conspire': False, 'shattered': False, 'image': False, 'hooey': False, 'stallone': False, 'stone': False, 'specialist': False, 'poses': False, 'recurring': False, 'assassin': False, 'honeymooning': False, 'jamaica': False, 'believe': False, 'runs': False, 'painful': False, 'pedestrian': False, 'siouxsie': False, 'sioux': False, 'wig': False, 'emotionless': False, 'leather': False, 'clothing': False, 'seattle': False, 'moping': False, 'karen': False, 'endlessly': False, 'complicated': False, 'plots': False, 'helps': False, 'crisp': False, 'modicum': False, 'shakespearean': False, 'begin': False, 'saddled': False, 'leaden': False, 'zero': False, 'breaking': False, 'cardboard': False, 'confines': False, 'insist': False, 'couldn': False, 'huh': False, 'wonderful': False, 'interchange': False, 'charm': False, 'faster': False, 'learned': False, 'cereal': False, 'crybaby': False, 'imagines': False, 'stranger': False, 'sends': False, 'flowers': False, 'chromium': False, 'tough': False, 'nails': False, 'crack': False, 'killing': False, 'machine': False, 'shoots': False, 'mirrors': False, 'stock': False, 'interested': False, 'nest': False, 'egg': False, 'pave': False, 'paradise': False, 'put': False, 'parking': False, 'graham': False, 'greene': False, 'barbet': False, 'schroeder': False, 'reversal': False, 'fortune': False, 'co': False, 'produced': True, 'agonizingly': False, 'b': False, 'york': False, 'vampires': False, 'latest': False, 'opus': False, 'bent': False, 'outing': False, 'aptly': False, 'titled': False, 'suppose': False, 'went': False, 'prefixed': False, 'possessive': False, 'unashamed': False, 'punctuated': False, 'above': False, 'storyline': False, 'borders': False, 'idiotic': False, 'chaotic': False, 'dormant': False, 'martians': False, 'swirling': False, 'gases': False, 'awakened': False, 'meddling': False, 'possess': False, 'hapless': False, 'colonists': False, 'testy': False, 'marilyn': False, 'manson': False, 'lookalikes': False, 'pooh': False, 'bah': False, 'counsel': False, 'official': False, 'melanie': False, 'ballard': False, 'natasha': False, 'henstridge': False, 'sub': False, 'species': False, 'returnee': False, 'officer': False, 'incarcerated': False, 'felon': False, 'second': False, 'blonde': False, 'pulled': False, 'tightly': False, 'awkwardly': False, 'ponytail': False, 'ice': False, 'cube': False, 'appropriately': False, 'named': True, 'pam': False, 'grier': False, 'briefly': False, 'whom': False, 'wonder': False, 'host': False, 'extras': False, 'therefore': False, 'bird': False, 'shots': False, 'sprawling': False, 'metropolis': False, 'reddish': False, 'state': False, 'art': False, 'trademark': False, 'finding': False, 'department': False, 'lock': False, 'laughing': False, 'barrel': False, 'fare': False, 'dingy': False, 'interiors': False, 'cluttered': False, 'exteriors': False, 'inane': False, 'lots': False, 'scarred': False, 'crazed': False, 'aliens': False, 'weaponry': False, 'warfare': False, 'warning': False, 'spontaneously': False, 'stupidly': False, 'villains': False, 'border': False, 'conflicts': False, 'shootouts': False, 'minus': False, 'hissing': False, 'plissken': False, 'miss': False, 'dubbed': False, 'minimalist': False, 'soundtracks': False, 'graduated': False, 'effective': False, 'scoring': False, 'highlighting': False, 'screeching': False, 'guitar': False, 'fortunately': False, 'drowns': False, 'er': False, 'audible': False, 'priceless': False, 'proven': False, 'infertile': False, 'breeding': False, 'ground': False, 'stillborn': False, 'val': False, 'kilmer': False, 'disappointing': False, 'weekend': False, 'overshadowed': False, 'sequels': False, 'among': False, 'pie': False, 'rush': False, 'absent': False, 'references': False, 'set': False, 'perth': False, 'amboys': False, 'closest': False, 'neighbor': False, 'slap': False, 'upside': False, 'keeps': False, 'miraculously': False, 'pretend': False, 'means': False, 'intelligent': False, 'grade': False, 'sci': False, 'fi': False, 'singularly': False, 'luck': False, 'starting': False, 'alicia': False, 'silverstone': False, 'beautiful': False, 'creatures': False, 'green': False, 'critic': False, 'large': False, 'choosing': False, 'strikes': False, 'crush': False, 'slow': False, 'moving': False, 'horrific': False, 'adaptation': False, 'clueless': False, 'mailed': False, 'saying': False, 'theater': False, 'expecting': False, 'preview': False, 'crazymadinlove': False, 'whiny': False, 'unlikable': False, 'wasn': False, 'yelled': False, 'f': False, 'laugh': False, 'agreement': False, 'walked': False, 'babysitter': False, 'inner': False, 'compulsion': False, 'understand': False, 'rent': False, 'regret': False, 'paragraph': False, 'competition': True, 'criticizing': False, 'thin': False, 'shred': False, 'slower': False, 'glacier': False, 'writing': False, 'appeal': False, 'whatsoever': False, 'pointlessly': False, 'concluded': False, 'violent': False, 'plus': False, 'equals': False, 'spends': False, 'twenty': False, 'bubble': False, 'bath': False, 'joined': False, 'four': False, 'features': False, 'settle': False, 'friday': False, 'cocktail': False, 'automatically': False, 'nights': False, 'trods': False, 'discover': False, 'silent': True, 'object': False, 'male': False, 'fantasies': False, 'thinks': False, 'recapture': False, 'youth': False, 'boyfriend': False, 'lets': False, 'wild': False, 'spying': False, 'outside': False, 'prepubescent': False, 'keyhole': False, 'aged': False, 'counterpart': False, 'asked': False, 'pound': False, 'silk': False, 'teddy': False, 'fanatasies': False, 'realm': False, 'pg': False, 'imagine': False, 'cinemax': False, 'staple': False, 'absolutely': False, 'pointed': False, 'classify': False, 'mix': False, 'various': False, 'encounters': False, 'third': True, 'space': False, 'odyssey': False, 'apollo': False, 'contact': False, 'hope': False, 'melange': False, 'considering': False, 'disastrous': False, 'results': False, 'sucks': False, 'rescue': False, 'astronauts': False, 'sent': False, 'unknown': False, 'aviators': False, 'visit': False, 'underwhelming': False, 'describe': False, 'uneven': False, 'promise': False, 'buzz': False, 'neutral': False, 'cherry': False, 'colored': False, 'nerdies': False, 'techie': False, 'jargon': False, 'practically': False, 'yawning': False, 'excitement': False, 'premise': False, 'joins': False, 'misadventures': False, 'crux': False, 'journey': False, 'eventually': True, 'settles': False, 'anti': False, 'climactic': False, 'endings': False, 'shrug': False, 'shoulders': False, 'frivolous': False, 'ditty': False, 'remember': False, 'computer': False, 'generated': False, 'friggin': False, 'wondering': False, 'brass': False, 'crappiness': False, 'read': False, 'cheezy': False, 'depalma': False, 'helm': False, 'blame': False, 'inclusion': False, 'jerry': False, 'connell': False, 'fine': False, 'thespians': False, 'nuff': False, 'cranking': False, 'juice': False, 'presumably': False, 'wake': False, 'wow': False, 'yawn': False, 'ears': False, 'hurt': False, 'salvageable': False, 'sinise': False, 'job': False, 'cheadle': False, 'bore': False, 'slowly': False, 'twister': False, 'effect': False, 'commercial': False, 'admire': False, 'filmmakers': False, 'devious': False, 'placement': False}, 'pos')\n"
          ]
        }
      ]
    },
    {
      "cell_type": "code",
      "source": [
        "from sklearn.feature_extraction import DictVectorizer\n",
        "from sklearn.model_selection import train_test_split\n",
        "from sklearn.naive_bayes import MultinomialNB\n",
        "from sklearn.metrics import accuracy_score\n",
        "\n",
        "# Convert dictionary features to numerical format\n",
        "vectorizer = DictVectorizer(sparse=False)\n",
        "X = vectorizer.fit_transform([features for features, label in feature_sets])\n",
        "y = [label for features, label in feature_sets]\n",
        "\n",
        "# Split into training (80%) and testing (20%) sets\n",
        "X_train, X_test, y_train, y_test = train_test_split(X, y, test_size=0.2, random_state=42)\n",
        "\n",
        "# Train the Naive Bayes model\n",
        "model = MultinomialNB()\n",
        "model.fit(X_train, y_train)\n",
        "\n",
        "# Test model accuracy\n",
        "y_pred = model.predict(X_test)\n",
        "print(f\"Model Accuracy: {accuracy_score(y_test, y_pred):.2f}\")\n"
      ],
      "metadata": {
        "colab": {
          "base_uri": "https://localhost:8080/"
        },
        "id": "jCMiAKdhaLjF",
        "outputId": "82d7e2e6-af23-47d5-bffc-dcee22fe263f"
      },
      "execution_count": 4,
      "outputs": [
        {
          "output_type": "stream",
          "name": "stdout",
          "text": [
            "Model Accuracy: 0.82\n"
          ]
        }
      ]
    },
    {
      "cell_type": "code",
      "source": [
        "import joblib\n",
        "from google.colab import drive\n",
        "\n",
        "# Mount Google Drive\n",
        "drive.mount('/content/drive')\n",
        "\n",
        "# Save model and vectorizer\n",
        "joblib.dump(model, \"/content/drive/My Drive/sentiment_model.pkl\")\n",
        "joblib.dump(vectorizer, \"/content/drive/My Drive/vectorizer.pkl\")\n"
      ],
      "metadata": {
        "colab": {
          "base_uri": "https://localhost:8080/"
        },
        "id": "I0VQ5nERaU7I",
        "outputId": "a345a2cc-af27-4d7e-d9f7-d48177954f26"
      },
      "execution_count": 5,
      "outputs": [
        {
          "output_type": "stream",
          "name": "stdout",
          "text": [
            "Mounted at /content/drive\n"
          ]
        },
        {
          "output_type": "execute_result",
          "data": {
            "text/plain": [
              "['/content/drive/My Drive/vectorizer.pkl']"
            ]
          },
          "metadata": {},
          "execution_count": 5
        }
      ]
    },
    {
      "cell_type": "code",
      "source": [
        "# Load the trained model and vectorizer\n",
        "model = joblib.load(\"/content/drive/My Drive/sentiment_model.pkl\")\n",
        "vectorizer = joblib.load(\"/content/drive/My Drive/vectorizer.pkl\")\n",
        "\n",
        "# Function to predict sentiment\n",
        "def predict_sentiment(review):\n",
        "    words = review.lower().split()\n",
        "    features = {word: (word in words) for word in vectorizer.feature_names_}\n",
        "    X_new = vectorizer.transform([features])\n",
        "    return model.predict(X_new)[0]\n",
        "\n",
        "# Test the model\n",
        "print(predict_sentiment(\"This movie was fantastic, I loved it!\"))  # Expected: pos\n",
        "print(predict_sentiment(\"The film was terrible and boring.\"))  # Expected: neg\n"
      ],
      "metadata": {
        "colab": {
          "base_uri": "https://localhost:8080/"
        },
        "id": "wkNfhI1Ragdq",
        "outputId": "8ae5387e-ea68-48ba-858e-7275fdcce656"
      },
      "execution_count": 8,
      "outputs": [
        {
          "output_type": "stream",
          "name": "stdout",
          "text": [
            "pos\n",
            "neg\n"
          ]
        }
      ]
    },
    {
      "cell_type": "code",
      "source": [
        "reviews = [\n",
        "    \"Amazing movie, I really enjoyed it!\",\n",
        "    \"Worst film ever, waste of time.\",\n",
        "    \"It was okay, not the best but not the worst.\",\n",
        "]\n",
        "\n",
        "for review in reviews:\n",
        "    print(f\"Review: {review} --> Sentiment: {predict_sentiment(review)}\")\n"
      ],
      "metadata": {
        "colab": {
          "base_uri": "https://localhost:8080/"
        },
        "id": "2HvqzdRobGC8",
        "outputId": "7d32ea04-6286-4d26-c61a-89597e07f1ff"
      },
      "execution_count": 20,
      "outputs": [
        {
          "output_type": "stream",
          "name": "stdout",
          "text": [
            "Review: Amazing movie, I really enjoyed it! --> Sentiment: pos\n",
            "Review: Worst film ever, waste of time. --> Sentiment: neg\n",
            "Review: It was okay, not the best but not the worst. --> Sentiment: pos\n"
          ]
        }
      ]
    },
    {
      "cell_type": "code",
      "source": [
        "user_review = input(\"Enter a movie review: \")\n",
        "print(f\"Predicted Sentiment: {predict_sentiment(user_review)}\")\n"
      ],
      "metadata": {
        "colab": {
          "base_uri": "https://localhost:8080/"
        },
        "id": "JSY7zeu8bNK2",
        "outputId": "cf0985c9-cda5-43d7-ffe5-d9f53f49ba29"
      },
      "execution_count": 21,
      "outputs": [
        {
          "output_type": "stream",
          "name": "stdout",
          "text": [
            "Enter a movie review: waste of time\n",
            "Predicted Sentiment: neg\n"
          ]
        }
      ]
    },
    {
      "cell_type": "code",
      "source": [
        "import joblib\n",
        "\n",
        "# Load model and vectorizer\n",
        "model = joblib.load(\"/content/drive/My Drive/sentiment_model.pkl\")\n",
        "vectorizer = joblib.load(\"/content/drive/My Drive/vectorizer.pkl\")\n",
        "\n",
        "print(\"Model loaded successfully!\")"
      ],
      "metadata": {
        "colab": {
          "base_uri": "https://localhost:8080/"
        },
        "id": "hN5orzTtbQ8T",
        "outputId": "ae88dd3a-a51d-4531-f2d2-538e3a91351d"
      },
      "execution_count": 22,
      "outputs": [
        {
          "output_type": "stream",
          "name": "stdout",
          "text": [
            "Model loaded successfully!\n"
          ]
        }
      ]
    },
    {
      "cell_type": "code",
      "source": [
        "import joblib\n",
        "\n",
        "# Save model and vectorizer to Google Drive\n",
        "joblib.dump(model, \"/content/drive/My Drive/sentiment_model.pkl\")\n",
        "joblib.dump(vectorizer, \"/content/drive/My Drive/vectorizer.pkl\")\n",
        "\n",
        "print(\"Model saved successfully!\")\n"
      ],
      "metadata": {
        "colab": {
          "base_uri": "https://localhost:8080/"
        },
        "id": "NmRT_qWBbVQV",
        "outputId": "0bc8be45-0ae4-422f-cc76-d4257686807c"
      },
      "execution_count": 24,
      "outputs": [
        {
          "output_type": "stream",
          "name": "stdout",
          "text": [
            "Model saved successfully!\n"
          ]
        }
      ]
    },
    {
      "cell_type": "code",
      "source": [
        "from google.colab import drive\n",
        "drive.mount('/content/drive')\n"
      ],
      "metadata": {
        "colab": {
          "base_uri": "https://localhost:8080/"
        },
        "id": "i3NrXoNzcHze",
        "outputId": "42f140e2-04e9-421f-a7d4-70be835e76c7"
      },
      "execution_count": 25,
      "outputs": [
        {
          "output_type": "stream",
          "name": "stdout",
          "text": [
            "Drive already mounted at /content/drive; to attempt to forcibly remount, call drive.mount(\"/content/drive\", force_remount=True).\n"
          ]
        }
      ]
    }
  ]
}